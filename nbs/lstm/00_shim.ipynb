{
 "cells": [
  {
   "cell_type": "code",
   "execution_count": null,
   "metadata": {},
   "outputs": [],
   "source": [
    "#| default_exp lstm.shim"
   ]
  },
  {
   "cell_type": "markdown",
   "metadata": {},
   "source": [
    "# singleline_models.lstm\n",
    "\n",
    "Helpers for creating LSTM layers, with and without Layer Normalization and Recurrent Dropout."
   ]
  },
  {
   "cell_type": "code",
   "execution_count": null,
   "metadata": {},
   "outputs": [],
   "source": [
    "#| export\n",
    "from singleline_models.lstm.rnnlib import *\n",
    "from singleline_models.lstm.custom_lstm import *"
   ]
  },
  {
   "cell_type": "code",
   "execution_count": null,
   "metadata": {},
   "outputs": [],
   "source": [
    "#| export\n",
    "def lstm_layer(ni,\n",
    "               nh,\n",
    "               bidirectional=False,\n",
    "               use_recurrent_dropout=False,\n",
    "               r_dropout_prob=0.0,\n",
    "               use_layer_norm=False,\n",
    "               layer_norm_learnable=False,\n",
    "               lstm_impl=\"builtin\"):\n",
    "    \"\"\"\n",
    "    Creates an LSTM layer, using a different underlying LSTM implementation.\n",
    "    - 'builtin' uses pytorch `nn.LSTM`\n",
    "    - 'rnnlib' uses LayerNormLSTM from `rnnlib`\n",
    "    \"\"\"\n",
    "    if lstm_impl == 'builtin':\n",
    "        assert not use_recurrent_dropout\n",
    "        assert not use_layer_norm\n",
    "        assert not layer_norm_learnable\n",
    "        return nn.LSTM(ni, nh, bidirectional=bidirectional)\n",
    "    elif lstm_impl == 'rnnlib':\n",
    "        r_dropout = r_dropout_prob if use_recurrent_dropout else 0\n",
    "        if use_layer_norm:\n",
    "            return LayerNormLSTM(ni, nh, num_layers=1, bidirectional=bidirectional, layer_norm_enabled=True, r_dropout=r_dropout)\n",
    "        rnn_cells = [[LSTMCell(ni, nh), LSTMCell(ni, nh)]] if bidirectional else [LSTMCell(ni, nh)]\n",
    "        return LSTMFrame(rnn_cells, bidirectional=bidirectional, batch_first=False)\n",
    "    else:\n",
    "        raise NotImplementedError()\n"
   ]
  },
  {
   "cell_type": "code",
   "execution_count": null,
   "metadata": {},
   "outputs": [],
   "source": [
    "#| hide\n",
    "import nbdev; nbdev.nbdev_export()"
   ]
  }
 ],
 "metadata": {
  "kernelspec": {
   "display_name": "python3",
   "language": "python",
   "name": "python3"
  }
 },
 "nbformat": 4,
 "nbformat_minor": 4
}
