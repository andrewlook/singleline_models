{
 "cells": [
  {
   "cell_type": "code",
   "execution_count": null,
   "metadata": {},
   "outputs": [],
   "source": [
    "#| hide\n",
    "from singleline_models.core import *"
   ]
  },
  {
   "cell_type": "markdown",
   "metadata": {},
   "source": [
    "# singleline_models\n",
    "\n",
    "> ML Models for Single-Line Drawings"
   ]
  },
  {
   "cell_type": "markdown",
   "metadata": {},
   "source": [
    "## Install"
   ]
  },
  {
   "cell_type": "markdown",
   "metadata": {},
   "source": [
    "```sh\n",
    "pip install singleline_models\n",
    "```"
   ]
  },
  {
   "cell_type": "markdown",
   "metadata": {},
   "source": [
    "## Models"
   ]
  },
  {
   "cell_type": "markdown",
   "metadata": {},
   "source": [
    "### Sketch RNN\n",
    "\n",
    "[PyTorch](https://pytorch.org) implementation of the SketchRNN paper, [A Neural Representation of Sketch Drawings](https://arxiv.org/abs/1704.03477).\n",
    "\n",
    "Sketch RNN learns to reconstruct stroke-based drawings, by predicting a series of strokes. It uses a sequence-to-sequence LSTM model, with gaussian mixture heads to produce a sequence of stroke coordinates.\n",
    "\n",
    "![seq2seq model](https://i.ibb.co/4F4HbPB/sketchnn-model.png)\n",
    "\n",
    "### Datasets\n",
    "\n",
    "- `data/quickdraw/`: Sample data from [Quick, Draw! Dataset](https://github.com/googlecreativelab/quickdraw-dataset)\n",
    "- `data/look/`: Custom dataset of single-line drawings by @andrewlook\n",
    "\n",
    "All data is stored in stroke-3 format, meaning a list with three columns:\n",
    "\n",
    "- `delta_x`\n",
    "- `delta_y`\n",
    "- `lift_pen` (if `1`, \"lift the pen\" and start a new stroke; otherwise `0`)\n",
    "\n",
    "![stroke-3 turtle](https://i.ibb.co/NLBL4v0/stroke3-turtle.png)\n",
    "\n",
    "### Acknowledgements\n",
    "\n",
    "- [PyTorch Sketch RNN](https://github.com/alexis-jacq/Pytorch-Sketch-RNN) project by [Alexis David Jacq](https://github.com/alexis-jacq)\n",
    "- [Annotated Sketch RNN in PyTorch](https://nn.labml.ai/sketch_rnn/index.html) by [LabML](https://nn.labml.ai/)\n",
    "- [Tensorflow SketchRNN](https://github.com/magenta/magenta/blob/main/magenta/models/sketch_rnn/README.md) by [Magenta Team](https://magenta.tensorflow.org/) and [David Ha](https://github.com/hardmaru)\n",
    "- [sketch-rnn-datasets](https://github.com/hardmaru/sketch-rnn-datasets) by [David Ha](https://github.com/hardmaru)\n",
    "- [SketchRNN-Pytorch](https://github.com/OhataKenji/SketchRNN-Pytorch) by [OhataKenji](https://github.com/OhataKenji)\n",
    "\n",
    "### Improvements\n",
    "\n",
    "- [x] Log epoch and learning rate\n",
    "- [x] LR decay\n",
    "- [x] ETA decay (for KL loss)\n",
    "- [x] Dropout\n",
    "- [x] Layer Normalization\n",
    "- [x] Recurrent Dropout\n"
   ]
  },
  {
   "cell_type": "code",
   "execution_count": null,
   "metadata": {},
   "outputs": [
    {
     "data": {
      "text/plain": [
       "2"
      ]
     },
     "execution_count": null,
     "metadata": {},
     "output_type": "execute_result"
    }
   ],
   "source": []
  },
  {
   "cell_type": "code",
   "execution_count": null,
   "metadata": {},
   "outputs": [],
   "source": []
  }
 ],
 "metadata": {
  "kernelspec": {
   "display_name": "python3",
   "language": "python",
   "name": "python3"
  }
 },
 "nbformat": 4,
 "nbformat_minor": 4
}
