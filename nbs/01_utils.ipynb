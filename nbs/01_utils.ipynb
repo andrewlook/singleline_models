{
 "cells": [
  {
   "cell_type": "markdown",
   "metadata": {},
   "source": [
    "# utils\n",
    "\n",
    "Utility code for setting up and configuring a trainer. This comes directly from `utils.py` in [karpathy/minGPT](https://github.com/karpathy/minGPT/blob/master/mingpt/utils.py)."
   ]
  },
  {
   "cell_type": "code",
   "execution_count": null,
   "metadata": {},
   "outputs": [],
   "source": [
    "#| default_exp utils"
   ]
  },
  {
   "cell_type": "code",
   "execution_count": null,
   "metadata": {},
   "outputs": [],
   "source": [
    "#| hide\n",
    "%load_ext autoreload\n",
    "%autoreload 2"
   ]
  },
  {
   "cell_type": "code",
   "execution_count": null,
   "metadata": {},
   "outputs": [],
   "source": [
    "#| hide\n",
    "from nbdev.showdoc import *\n",
    "from fastcore.test import *"
   ]
  },
  {
   "cell_type": "code",
   "execution_count": null,
   "metadata": {},
   "outputs": [],
   "source": [
    "#| export\n",
    "import os\n",
    "import sys\n",
    "import json\n",
    "import random\n",
    "from ast import literal_eval\n",
    "\n",
    "import numpy as np\n",
    "import torch"
   ]
  },
  {
   "cell_type": "code",
   "execution_count": null,
   "metadata": {},
   "outputs": [],
   "source": [
    "#| export\n",
    "def set_seed(seed):\n",
    "    random.seed(seed)\n",
    "    np.random.seed(seed)\n",
    "    torch.manual_seed(seed)\n",
    "    torch.cuda.manual_seed_all(seed)"
   ]
  },
  {
   "cell_type": "code",
   "execution_count": null,
   "metadata": {},
   "outputs": [],
   "source": [
    "#| export\n",
    "class CfgNode:\n",
    "    \"\"\" a lightweight configuration class inspired by yacs \"\"\"\n",
    "    # TODO: convert to subclass from a dict like in yacs?\n",
    "    # TODO: implement freezing to prevent shooting of own foot\n",
    "    # TODO: additional existence/override checks when reading/writing params?\n",
    "\n",
    "    def __init__(self, **kwargs):\n",
    "        self.__dict__.update(kwargs)\n",
    "\n",
    "    def __str__(self):\n",
    "        return self._str_helper(0)\n",
    "\n",
    "    def _str_helper(self, indent):\n",
    "        \"\"\" need to have a helper to support nested indentation for pretty printing \"\"\"\n",
    "        parts = []\n",
    "        for k, v in self.__dict__.items():\n",
    "            if isinstance(v, CfgNode):\n",
    "                parts.append(\"%s:\\n\" % k)\n",
    "                parts.append(v._str_helper(indent + 1))\n",
    "            else:\n",
    "                parts.append(\"%s: %s\\n\" % (k, v))\n",
    "        parts = [' ' * (indent * 4) + p for p in parts]\n",
    "        return \"\".join(parts)\n",
    "\n",
    "    def to_dict(self):\n",
    "        \"\"\" return a dict representation of the config \"\"\"\n",
    "        return { k: v.to_dict() if isinstance(v, CfgNode) else v for k, v in self.__dict__.items() }\n",
    "\n",
    "    def merge_from_dict(self, d):\n",
    "        self.__dict__.update(d)\n",
    "\n",
    "    def merge_from_args(self, args):\n",
    "        \"\"\"\n",
    "        update the configuration from a list of strings that is expected\n",
    "        to come from the command line, i.e. sys.argv[1:].\n",
    "\n",
    "        The arguments are expected to be in the form of `--arg=value`, and\n",
    "        the arg can use . to denote nested sub-attributes. Example:\n",
    "\n",
    "        --model.n_layer=10 --trainer.batch_size=32\n",
    "        \"\"\"\n",
    "        for arg in args:\n",
    "\n",
    "            keyval = arg.split('=')\n",
    "            assert len(keyval) == 2, \"expecting each override arg to be of form --arg=value, got %s\" % arg\n",
    "            key, val = keyval # unpack\n",
    "\n",
    "            # first translate val into a python object\n",
    "            try:\n",
    "                val = literal_eval(val)\n",
    "                \"\"\"\n",
    "                need some explanation here.\n",
    "                - if val is simply a string, literal_eval will throw a ValueError\n",
    "                - if val represents a thing (like an 3, 3.14, [1,2,3], False, None, etc.) it will get created\n",
    "                \"\"\"\n",
    "            except ValueError:\n",
    "                pass\n",
    "\n",
    "            # find the appropriate object to insert the attribute into\n",
    "            assert key[:2] == '--'\n",
    "            key = key[2:] # strip the '--'\n",
    "            keys = key.split('.')\n",
    "            obj = self\n",
    "            for k in keys[:-1]:\n",
    "                obj = getattr(obj, k)\n",
    "            leaf_key = keys[-1]\n",
    "\n",
    "            # ensure that this attribute exists\n",
    "            assert hasattr(obj, leaf_key), f\"{key} is not an attribute that exists in the config\"\n",
    "\n",
    "            # overwrite the attribute\n",
    "            print(\"command line overwriting config attribute %s with %s\" % (key, val))\n",
    "            setattr(obj, leaf_key, val)\n",
    "\n",
    "CN = CfgNode"
   ]
  },
  {
   "cell_type": "code",
   "execution_count": null,
   "metadata": {},
   "outputs": [],
   "source": [
    "show_doc(CfgNode.to_dict)"
   ]
  },
  {
   "cell_type": "code",
   "execution_count": null,
   "metadata": {},
   "outputs": [],
   "source": [
    "show_doc(CfgNode.merge_from_dict)"
   ]
  },
  {
   "cell_type": "code",
   "execution_count": null,
   "metadata": {},
   "outputs": [],
   "source": [
    "show_doc(CfgNode.merge_from_args)"
   ]
  },
  {
   "cell_type": "code",
   "execution_count": null,
   "metadata": {},
   "outputs": [],
   "source": [
    "#| hide\n",
    "\n",
    "# def setup_logging(config):\n",
    "#     \"\"\" monotonous bookkeeping \"\"\"\n",
    "#     work_dir = config.system.work_dir\n",
    "#     # create the work directory if it doesn't already exist\n",
    "#     os.makedirs(work_dir, exist_ok=True)\n",
    "#     # log the args (if any)\n",
    "#     with open(os.path.join(work_dir, 'args.txt'), 'w') as f:\n",
    "#         f.write(' '.join(sys.argv))\n",
    "#     # log the config itself\n",
    "#     with open(os.path.join(work_dir, 'config.json'), 'w') as f:\n",
    "#         f.write(json.dumps(config.to_dict(), indent=4))"
   ]
  },
  {
   "cell_type": "code",
   "execution_count": null,
   "metadata": {},
   "outputs": [],
   "source": [
    "#| hide\n",
    "import nbdev; nbdev.nbdev_export()"
   ]
  }
 ],
 "metadata": {
  "kernelspec": {
   "display_name": "python3",
   "language": "python",
   "name": "python3"
  }
 },
 "nbformat": 4,
 "nbformat_minor": 4
}
