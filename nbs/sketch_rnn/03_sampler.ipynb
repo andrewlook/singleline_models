{
 "cells": [
  {
   "cell_type": "markdown",
   "metadata": {},
   "source": [
    "# sampler\n",
    "\n",
    "> Fill in a module description here"
   ]
  },
  {
   "cell_type": "code",
   "execution_count": null,
   "metadata": {},
   "outputs": [],
   "source": [
    "#| default_exp sketch_rnn.sampler"
   ]
  },
  {
   "cell_type": "code",
   "execution_count": null,
   "metadata": {},
   "outputs": [],
   "source": [
    "#| hide\n",
    "%load_ext autoreload\n",
    "%autoreload 2"
   ]
  },
  {
   "cell_type": "code",
   "execution_count": null,
   "metadata": {},
   "outputs": [],
   "source": [
    "#| hide\n",
    "from nbdev.showdoc import *\n",
    "from fastcore.test import *"
   ]
  },
  {
   "cell_type": "code",
   "execution_count": null,
   "metadata": {},
   "outputs": [],
   "source": [
    "#| export\n",
    "import io\n",
    "\n",
    "import numpy as np\n",
    "import torch\n",
    "from matplotlib import pyplot as plt\n",
    "from PIL import Image\n"
   ]
  },
  {
   "cell_type": "code",
   "execution_count": null,
   "metadata": {},
   "outputs": [],
   "source": [
    "#| export\n",
    "class Sampler:\n",
    "    \"\"\"\n",
    "    This samples a sketch from the decoder and plots it\n",
    "    \"\"\"\n",
    "\n",
    "    @staticmethod\n",
    "    def plot(_seq: torch.Tensor, fpath = None, figsize=(6,6)):\n",
    "        seq = torch.zeros_like(_seq)\n",
    "        # Take the cumulative sums of $(\\Delta x, \\Delta y)$ to get $(x, y)$\n",
    "        seq[:, 0:2] = torch.cumsum(_seq[:, 0:2], dim=0)\n",
    "        # Create a new numpy array of the form $(x, y, q_2)$\n",
    "        seq[:, 2] = _seq[:, 3]\n",
    "        seq = seq[:, 0:3].detach().cpu().numpy()\n",
    "\n",
    "        # Split the array at points where $q_2$ is $1$.\n",
    "        # i.e. split the array of strokes at the points where the pen is lifted from the paper.\n",
    "        # This gives a list of sequence of strokes.\n",
    "        strokes = np.split(seq, np.where(seq[:, 2] > 0)[0] + 1)\n",
    "\n",
    "        fig = plt.figure(figsize=figsize)\n",
    "\n",
    "        # Plot each sequence of strokes\n",
    "        for s in strokes:\n",
    "            plt.plot(s[:, 0], -s[:, 1], figure=fig)\n",
    "        # Don't show axes\n",
    "        plt.axis('off')\n",
    "\n",
    "        if not fpath:\n",
    "            plt.show()\n",
    "            return\n",
    "        \n",
    "        with io.BytesIO() as buf:\n",
    "            plt.savefig(buf, format='png')\n",
    "            plt.close()\n",
    "            img = Image.open(buf)\n",
    "            img.save(fpath)\n",
    "            buf.seek(0)\n",
    "            buf.truncate()\n",
    "            return img"
   ]
  },
  {
   "cell_type": "code",
   "execution_count": null,
   "metadata": {},
   "outputs": [],
   "source": [
    "#| hide\n",
    "import nbdev; nbdev.nbdev_export()"
   ]
  }
 ],
 "metadata": {
  "kernelspec": {
   "display_name": "python3",
   "language": "python",
   "name": "python3"
  }
 },
 "nbformat": 4,
 "nbformat_minor": 4
}
