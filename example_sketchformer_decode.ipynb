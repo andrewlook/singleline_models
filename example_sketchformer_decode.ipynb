{
 "cells": [
  {
   "cell_type": "code",
   "execution_count": 2,
   "id": "96ae4a86-b115-4c5a-98eb-934c619fe15c",
   "metadata": {},
   "outputs": [],
   "source": [
    "%load_ext autoreload\n",
    "%autoreload 2"
   ]
  },
  {
   "cell_type": "code",
   "execution_count": null,
   "id": "de618f67-088b-4e42-ba00-9c352fbe367c",
   "metadata": {},
   "outputs": [],
   "source": []
  },
  {
   "cell_type": "code",
   "execution_count": null,
   "id": "fafeffe7-76cf-44c9-8b01-913501dbb4a9",
   "metadata": {},
   "outputs": [],
   "source": []
  },
  {
   "cell_type": "markdown",
   "id": "6126f883-3eae-4d57-b560-3dc8f2125637",
   "metadata": {},
   "source": [
    "# WIP: Decoding"
   ]
  },
  {
   "cell_type": "code",
   "execution_count": 3,
   "id": "b2182e59-c43a-4d7b-bcda-cc71b1c82645",
   "metadata": {},
   "outputs": [
    {
     "data": {
      "text/plain": [
       "(1800, 300)"
      ]
     },
     "execution_count": 3,
     "metadata": {},
     "output_type": "execute_result"
    }
   ],
   "source": [
    "import numpy as np\n",
    "\n",
    "npz_fname = 'data/look/epoch-20231214-filtered-trainval.npz'\n",
    "# npz_fname = 'data/look/epoch20240221_expanded10x_trainval.npz'\n",
    "\n",
    "ds = np.load(npz_fname, encoding='latin1', allow_pickle=True)\n",
    "# print(f\"num drawings in dataset: {ds.shape[0]}\")\n",
    "\n",
    "train = ds['train']\n",
    "valid = ds['valid']\n",
    "\n",
    "len(train), max([len(train[i]) for i in range(len(train))])"
   ]
  },
  {
   "cell_type": "code",
   "execution_count": 4,
   "id": "bddc31c5-be21-4837-8fd7-1ed156a741fb",
   "metadata": {},
   "outputs": [
    {
     "name": "stdout",
     "output_type": "stream",
     "text": [
      "============================================================\n",
      "RUN_ID: 0705098\n",
      "\n",
      "HYPERPARAMETERS:\n",
      "\n",
      "{\n",
      "  \"n_layer\": 4,\n",
      "  \"n_head\": 8,\n",
      "  \"d_model\": 128,\n",
      "  \"d_ff\": 512,\n",
      "  \"d_lowerdim\": 256,\n",
      "  \"vocab_size\": null,\n",
      "  \"block_size\": null,\n",
      "  \"dropout_rate\": 0.1,\n",
      "  \"max_seq_length\": 250,\n",
      "  \"batch_size\": 100,\n",
      "  \"blind_decoder_mask\": true,\n",
      "  \"dataset_source\": \"look\",\n",
      "  \"dataset_name\": \"look_i16__minn10_epsilon1\",\n",
      "  \"dataset_fname\": \"data/look/epoch-20231214-filtered-trainval.npz\",\n",
      "  \"augment_stroke_prob\": 0.1,\n",
      "  \"use_random_scale\": true,\n",
      "  \"random_scale_factor\": 0.15,\n",
      "  \"epochs\": 50000,\n",
      "  \"lr\": 0.001,\n",
      "  \"use_lr_decay\": true,\n",
      "  \"min_lr\": 1e-05,\n",
      "  \"lr_decay\": 0.9999,\n",
      "  \"learning_rate\": 0.001\n",
      "}\n",
      "============================================================\n",
      "\n",
      "\n",
      "truncating 16 - length: 266\n",
      "truncating 27 - length: 254\n",
      "truncating 51 - length: 257\n",
      "truncating 60 - length: 289\n",
      "truncating 88 - length: 260\n",
      "truncating 113 - length: 259\n",
      "truncating 135 - length: 276\n",
      "truncating 142 - length: 252\n",
      "truncating 150 - length: 282\n",
      "truncating 152 - length: 270\n",
      "truncating 174 - length: 298\n",
      "truncating 187 - length: 289\n",
      "truncating 237 - length: 294\n",
      "truncating 242 - length: 278\n",
      "truncating 254 - length: 300\n",
      "truncating 279 - length: 286\n",
      "truncating 301 - length: 284\n",
      "truncating 305 - length: 264\n",
      "truncating 312 - length: 262\n",
      "truncating 316 - length: 261\n",
      "truncating 358 - length: 282\n",
      "truncating 370 - length: 262\n",
      "truncating 371 - length: 257\n",
      "truncating 394 - length: 251\n",
      "truncating 399 - length: 263\n",
      "truncating 405 - length: 286\n",
      "truncating 409 - length: 281\n",
      "truncating 425 - length: 286\n",
      "truncating 440 - length: 265\n",
      "truncating 452 - length: 271\n",
      "truncating 471 - length: 284\n",
      "truncating 487 - length: 262\n",
      "truncating 516 - length: 265\n",
      "truncating 517 - length: 263\n",
      "truncating 518 - length: 298\n",
      "truncating 525 - length: 283\n",
      "truncating 549 - length: 281\n",
      "truncating 565 - length: 273\n",
      "truncating 571 - length: 254\n",
      "truncating 591 - length: 276\n",
      "truncating 650 - length: 277\n",
      "truncating 652 - length: 258\n",
      "truncating 656 - length: 257\n",
      "truncating 699 - length: 272\n",
      "truncating 701 - length: 295\n",
      "truncating 705 - length: 291\n",
      "truncating 719 - length: 272\n",
      "truncating 730 - length: 251\n",
      "truncating 737 - length: 251\n",
      "truncating 757 - length: 258\n",
      "truncating 777 - length: 271\n",
      "truncating 784 - length: 271\n",
      "truncating 788 - length: 281\n",
      "truncating 801 - length: 253\n",
      "truncating 832 - length: 298\n",
      "truncating 833 - length: 251\n",
      "truncating 843 - length: 262\n",
      "truncating 894 - length: 270\n",
      "truncating 903 - length: 274\n",
      "truncating 909 - length: 259\n",
      "truncating 921 - length: 290\n",
      "truncating 929 - length: 257\n",
      "truncating 955 - length: 281\n",
      "truncating 961 - length: 254\n",
      "truncating 969 - length: 272\n",
      "truncating 973 - length: 256\n",
      "truncating 975 - length: 269\n",
      "truncating 981 - length: 259\n",
      "truncating 995 - length: 273\n",
      "truncating 1043 - length: 254\n",
      "truncating 1047 - length: 294\n",
      "truncating 1063 - length: 271\n",
      "truncating 1099 - length: 295\n",
      "truncating 1118 - length: 297\n",
      "truncating 1140 - length: 264\n",
      "truncating 1173 - length: 280\n",
      "truncating 1253 - length: 281\n",
      "truncating 1259 - length: 293\n",
      "truncating 1329 - length: 297\n",
      "truncating 1335 - length: 253\n",
      "truncating 1343 - length: 251\n",
      "truncating 1353 - length: 265\n",
      "truncating 1359 - length: 264\n",
      "truncating 1365 - length: 254\n",
      "truncating 1393 - length: 289\n",
      "truncating 1399 - length: 267\n",
      "truncating 1400 - length: 267\n",
      "truncating 1408 - length: 280\n",
      "truncating 1448 - length: 300\n",
      "truncating 1482 - length: 253\n",
      "truncating 1501 - length: 264\n",
      "truncating 1518 - length: 284\n",
      "truncating 1527 - length: 299\n",
      "truncating 1590 - length: 280\n",
      "truncating 1630 - length: 257\n",
      "truncating 1631 - length: 277\n",
      "truncating 1639 - length: 291\n",
      "truncating 1644 - length: 261\n",
      "truncating 1660 - length: 299\n",
      "truncating 1669 - length: 272\n",
      "truncating 1676 - length: 265\n",
      "truncating 1699 - length: 268\n",
      "truncating 1704 - length: 276\n",
      "truncating 1705 - length: 264\n",
      "truncating 1714 - length: 292\n",
      "truncating 1758 - length: 283\n",
      "truncating 1790 - length: 297\n",
      "finished filtering - len(dataset) = 1800, len(data) = 1800\n",
      "truncating 5 - length: 262\n",
      "truncating 7 - length: 299\n",
      "truncating 22 - length: 296\n",
      "truncating 42 - length: 296\n",
      "truncating 44 - length: 266\n",
      "truncating 81 - length: 275\n",
      "truncating 132 - length: 252\n",
      "truncating 144 - length: 282\n",
      "truncating 164 - length: 289\n",
      "truncating 186 - length: 281\n",
      "truncating 227 - length: 277\n",
      "truncating 239 - length: 269\n",
      "truncating 257 - length: 266\n",
      "truncating 261 - length: 289\n",
      "truncating 276 - length: 284\n",
      "truncating 287 - length: 252\n",
      "truncating 295 - length: 252\n",
      "truncating 315 - length: 274\n",
      "truncating 344 - length: 298\n",
      "truncating 348 - length: 295\n",
      "truncating 367 - length: 258\n",
      "truncating 398 - length: 297\n",
      "truncating 408 - length: 285\n",
      "truncating 443 - length: 262\n",
      "truncating 457 - length: 258\n",
      "finished filtering - len(dataset) = 460, len(data) = 460\n"
     ]
    },
    {
     "data": {
      "text/plain": [
       "Model(\n",
       "  (encoder): Encoder(\n",
       "    (embedding): Linear(in_features=5, out_features=128, bias=True)\n",
       "    (pos_encoding): PositionalEncoding(\n",
       "      (dropout): Dropout(p=0.1, inplace=False)\n",
       "    )\n",
       "    (enc_layers): ModuleList(\n",
       "      (0-3): 4 x EncoderLayer(\n",
       "        (mha): MultiheadAttention(\n",
       "          (out_proj): NonDynamicallyQuantizableLinear(in_features=128, out_features=128, bias=True)\n",
       "        )\n",
       "        (ffn): Sequential(\n",
       "          (0): Linear(in_features=128, out_features=512, bias=True)\n",
       "          (1): ReLU()\n",
       "          (2): Linear(in_features=512, out_features=128, bias=True)\n",
       "          (3): Dropout(p=0.1, inplace=False)\n",
       "        )\n",
       "        (ln1): LayerNorm((128,), eps=1e-05, elementwise_affine=True)\n",
       "        (ln2): LayerNorm((128,), eps=1e-05, elementwise_affine=True)\n",
       "      )\n",
       "    )\n",
       "  )\n",
       "  (bottleneck_layer): SelfAttn(\n",
       "    (embedding_layer): Linear(in_features=128, out_features=256, bias=True)\n",
       "  )\n",
       "  (expand_layer): DenseExpander(\n",
       "    (project_layer): Linear(in_features=256, out_features=128, bias=True)\n",
       "    (expand_layer): Linear(in_features=1, out_features=252, bias=True)\n",
       "  )\n",
       "  (decoder): Decoder(\n",
       "    (embedding): Linear(in_features=5, out_features=128, bias=True)\n",
       "    (pos_encoding): PositionalEncoding(\n",
       "      (dropout): Dropout(p=0.1, inplace=False)\n",
       "    )\n",
       "    (dec_layers): ModuleList(\n",
       "      (0-3): 4 x DecoderLayer(\n",
       "        (mha1): MultiheadAttention(\n",
       "          (out_proj): NonDynamicallyQuantizableLinear(in_features=128, out_features=128, bias=True)\n",
       "        )\n",
       "        (mha2): MultiheadAttention(\n",
       "          (out_proj): NonDynamicallyQuantizableLinear(in_features=128, out_features=128, bias=True)\n",
       "        )\n",
       "        (ffn): Sequential(\n",
       "          (0): Linear(in_features=128, out_features=512, bias=True)\n",
       "          (1): ReLU()\n",
       "          (2): Linear(in_features=512, out_features=128, bias=True)\n",
       "          (3): Dropout(p=0.1, inplace=False)\n",
       "        )\n",
       "        (ln1): LayerNorm((128,), eps=1e-05, elementwise_affine=True)\n",
       "        (ln2): LayerNorm((128,), eps=1e-05, elementwise_affine=True)\n",
       "        (ln3): LayerNorm((128,), eps=1e-05, elementwise_affine=True)\n",
       "      )\n",
       "    )\n",
       "  )\n",
       "  (output_layer): Linear(in_features=128, out_features=5, bias=True)\n",
       ")"
      ]
     },
     "execution_count": 4,
     "metadata": {},
     "output_type": "execute_result"
    }
   ],
   "source": [
    "import torch\n",
    "from singleline_models.sketch_transformer.trainer import get_default_config, Trainer\n",
    "\n",
    "run_id = '0135253'\n",
    "\n",
    "t2 = Trainer.load(run_dir=f'models/{run_id}', run_id=run_id, device='cpu', use_wandb=False)\n",
    "\n",
    "t2.model"
   ]
  },
  {
   "cell_type": "code",
   "execution_count": 5,
   "id": "d1780ce4-121e-4d86-84bd-3e23c6f53a82",
   "metadata": {},
   "outputs": [
    {
     "data": {
      "text/plain": [
       "{'n_layer': 4,\n",
       " 'n_head': 8,\n",
       " 'd_model': 128,\n",
       " 'd_ff': 512,\n",
       " 'd_lowerdim': 256,\n",
       " 'vocab_size': None,\n",
       " 'block_size': None,\n",
       " 'dropout_rate': 0.1,\n",
       " 'max_seq_length': 250,\n",
       " 'batch_size': 100,\n",
       " 'blind_decoder_mask': True,\n",
       " 'dataset_source': 'look',\n",
       " 'dataset_name': 'look_i16__minn10_epsilon1',\n",
       " 'dataset_fname': 'data/look/epoch-20231214-filtered-trainval.npz',\n",
       " 'augment_stroke_prob': 0.1,\n",
       " 'use_random_scale': True,\n",
       " 'random_scale_factor': 0.15,\n",
       " 'epochs': 50000,\n",
       " 'lr': 0.001,\n",
       " 'use_lr_decay': True,\n",
       " 'min_lr': 1e-05,\n",
       " 'lr_decay': 0.9999,\n",
       " 'learning_rate': 0.001}"
      ]
     },
     "execution_count": 5,
     "metadata": {},
     "output_type": "execute_result"
    }
   ],
   "source": [
    "hp = t2.hp\n",
    "\n",
    "hp.__dict__"
   ]
  },
  {
   "cell_type": "code",
   "execution_count": null,
   "id": "f26c2327-237d-43e2-a814-2f92ce6f8bd3",
   "metadata": {},
   "outputs": [],
   "source": []
  },
  {
   "cell_type": "markdown",
   "id": "aec6b30d-b48a-4c26-a9fc-25bae4f370b5",
   "metadata": {},
   "source": [
    "#### Load Dataset, Run Inference"
   ]
  },
  {
   "cell_type": "code",
   "execution_count": 6,
   "id": "8c260ceb-c9a2-41cf-baed-e9e18c2efe79",
   "metadata": {},
   "outputs": [],
   "source": [
    "from singleline_dataset.transforms import *\n",
    "from singleline_dataset.display import *\n",
    "\n",
    "from singleline_models.sketch_transformer.masks import *"
   ]
  },
  {
   "cell_type": "code",
   "execution_count": 7,
   "id": "d4723cbf-f033-4a59-8e3a-cd3abdf15da2",
   "metadata": {},
   "outputs": [
    {
     "data": {
      "text/plain": [
       "(torch.Size([100, 252, 5]),\n",
       " torch.Size([100, 251]),\n",
       " tensor([[ 0.0000,  0.0000,  1.0000,  0.0000,  0.0000],\n",
       "         [ 0.7478,  0.6953,  1.0000,  0.0000,  0.0000],\n",
       "         [-0.2393,  0.3491,  1.0000,  0.0000,  0.0000],\n",
       "         ...,\n",
       "         [ 0.0000,  0.0000,  0.0000,  0.0000,  1.0000],\n",
       "         [ 0.0000,  0.0000,  0.0000,  0.0000,  1.0000],\n",
       "         [ 0.0000,  0.0000,  0.0000,  0.0000,  1.0000]]))"
      ]
     },
     "execution_count": 7,
     "metadata": {},
     "output_type": "execute_result"
    }
   ],
   "source": [
    "valid_iter = iter(t2.valid_loader)\n",
    "\n",
    "data, mask = next(valid_iter)\n",
    "\n",
    "data.shape, mask.shape, data[0]"
   ]
  },
  {
   "cell_type": "code",
   "execution_count": 8,
   "id": "df0051e0-72ce-486f-858f-b25ee2606827",
   "metadata": {},
   "outputs": [],
   "source": [
    "# # back to stroke-3\n",
    "# data[..., [0,1,3]]"
   ]
  },
  {
   "cell_type": "code",
   "execution_count": null,
   "id": "6aceceb8-5ae2-4757-b47a-fd23a6739014",
   "metadata": {},
   "outputs": [],
   "source": []
  },
  {
   "cell_type": "code",
   "execution_count": 9,
   "id": "cb74ddaf-1159-4f10-ba6a-5db702169ccb",
   "metadata": {},
   "outputs": [
    {
     "name": "stderr",
     "output_type": "stream",
     "text": [
      "/Users/al/miniconda3_m1/lib/python3.8/site-packages/torch/nn/modules/activation.py:1144: UserWarning: Converting mask without torch.bool dtype to bool; this will negatively affect performance. Prefer to use a boolean mask directly. (Triggered internally at /Users/runner/work/_temp/anaconda/conda-bld/pytorch_1678455016227/work/aten/src/ATen/native/transformers/attention.cpp:152.)\n",
      "  return torch._native_multi_head_attention(\n"
     ]
    }
   ],
   "source": [
    "t2.model.eval()\n",
    "\n",
    "with torch.no_grad():\n",
    "    inp = data\n",
    "    tar_inp = inp[:, :-1, ...]\n",
    "    tar_real = inp[:, 1:, ...]\n",
    "\n",
    "    enc_padding_mask, dec_padding_mask, dec_target_padding_mask, look_ahead_mask = create_masks(inp, tar_inp, device=t2.device)\n",
    "\n",
    "    recon, _ = t2.model(inp, tar_inp, enc_padding_mask, dec_padding_mask, dec_target_padding_mask, look_ahead_mask)\n"
   ]
  },
  {
   "cell_type": "code",
   "execution_count": 10,
   "id": "c263e456-18fa-4d21-9278-3db197b44291",
   "metadata": {},
   "outputs": [
    {
     "data": {
      "text/plain": [
       "torch.Size([100, 251, 5])"
      ]
     },
     "execution_count": 10,
     "metadata": {},
     "output_type": "execute_result"
    }
   ],
   "source": [
    "recon.shape"
   ]
  },
  {
   "cell_type": "code",
   "execution_count": 11,
   "id": "dd738a11-7a3a-4527-aa41-5c355f14b4cb",
   "metadata": {},
   "outputs": [],
   "source": [
    "# recon"
   ]
  },
  {
   "cell_type": "markdown",
   "id": "e84ab720-3bae-4e23-9181-6459a43438ab",
   "metadata": {},
   "source": [
    "### Helper: Plotting"
   ]
  },
  {
   "cell_type": "code",
   "execution_count": 12,
   "id": "6566e2b1-71a4-408e-bd58-880adf3be9da",
   "metadata": {},
   "outputs": [],
   "source": [
    "def plot_stroke5(stroke5, target_size=200):\n",
    "    # TODO: chop after EOD\n",
    "    stroke3 = stroke5[..., [0,1,3]]\n",
    "    pts = deltas_to_points(stroke3)\n",
    "    bb = BoundingBox.create(pts)\n",
    "\n",
    "    rescaled_pts = apply_transform(pts[:, :2], bb.normalization_xform())\n",
    "    rescaled_pts *= target_size\n",
    "\n",
    "    rescaled_pts = np.concatenate([rescaled_pts, pts[:, 2].reshape(pts.shape[0], 1)], axis=1)\n",
    "\n",
    "    plot_strokes(points_to_strokes(rescaled_pts))\n"
   ]
  },
  {
   "cell_type": "code",
   "execution_count": 13,
   "id": "1bc7d21c-9a1c-4434-8fb1-12702ad8562f",
   "metadata": {},
   "outputs": [
    {
     "data": {
      "image/png": "[encoded data removed]",
      "text/plain": [
       "<Figure size 360x360 with 1 Axes>"
      ]
     },
     "metadata": {},
     "output_type": "display_data"
    }
   ],
   "source": [
    "plot_stroke5(data[0])"
   ]
  },
  {
   "cell_type": "markdown",
   "id": "53876c7e-bd70-4a8d-98e6-aed653233450",
   "metadata": {},
   "source": [
    "### Compute Embeddings"
   ]
  },
  {
   "cell_type": "code",
   "execution_count": 14,
   "id": "d8d26e27-f6b0-40ca-a88d-42bad264e34b",
   "metadata": {},
   "outputs": [],
   "source": [
    "emb, enc_output = t2.model.encode_from_seq(data)"
   ]
  },
  {
   "cell_type": "code",
   "execution_count": 15,
   "id": "414fb8da-d483-4df1-aaa3-e044a99c4076",
   "metadata": {},
   "outputs": [
    {
     "data": {
      "text/plain": [
       "torch.Size([100, 256])"
      ]
     },
     "execution_count": 15,
     "metadata": {},
     "output_type": "execute_result"
    }
   ],
   "source": [
    "emb.shape"
   ]
  },
  {
   "cell_type": "code",
   "execution_count": 16,
   "id": "37f92d23-acba-48b1-a19b-59e535d29427",
   "metadata": {},
   "outputs": [
    {
     "data": {
      "text/plain": [
       "torch.Size([2, 256])"
      ]
     },
     "execution_count": 16,
     "metadata": {},
     "output_type": "execute_result"
    }
   ],
   "source": [
    "embedding = emb\n",
    "\n",
    "emb = emb[:2]\n",
    "\n",
    "emb.shape"
   ]
  },
  {
   "cell_type": "markdown",
   "id": "4312f283-c51a-4200-8745-9058a07f5061",
   "metadata": {},
   "source": [
    "### Decoding V2"
   ]
  },
  {
   "cell_type": "code",
   "execution_count": 17,
   "id": "72eb2665-25dc-44bd-a518-567f4b7cdb39",
   "metadata": {},
   "outputs": [
    {
     "name": "stderr",
     "output_type": "stream",
     "text": [
      "/Users/al/miniconda3_m1/lib/python3.8/site-packages/torch/nn/functional.py:4999: UserWarning: Support for mismatched key_padding_mask and attn_mask is deprecated. Use same type for both instead.\n",
      "  warnings.warn(\n"
     ]
    }
   ],
   "source": [
    "from torch import tensor\n",
    "from torch.nn import functional as F\n",
    "\n",
    "total_seq_len = hp.max_seq_length + 2\n",
    "\n",
    "decoder_input = tensor([0., 0., 1., 0., 0.])\n",
    "output = torch.ones((emb.shape[0], 1, 5)) * decoder_input\n",
    "\n",
    "for i in range(total_seq_len):\n",
    "    nattn = i + 1\n",
    "    \n",
    "    enc_input_dummy = make_dummy_input(\n",
    "        total_seq_len=total_seq_len, nattn=nattn, batch_size=emb.shape[0])\n",
    "\n",
    "    enc_padding_mask, dec_padding_mask, dec_target_padding_mask, look_ahead_mask = \\\n",
    "        create_masks(enc_input_dummy, output, device='cpu')\n",
    "\n",
    "    final_output, attention_weights = t2.model.decode(\n",
    "            embedding=emb,\n",
    "            target=output,\n",
    "            dec_padding_mask=dec_padding_mask,\n",
    "            dec_target_padding_mask=dec_target_padding_mask,\n",
    "            look_ahead_mask=look_ahead_mask)\n",
    "\n",
    "    predictions = final_output[:, -1:, ...]  # (batch_size, 1, vocab_size)\n",
    "    \n",
    "    pred_location = predictions[..., :2]\n",
    "    pred_metadata = F.one_hot(predictions[..., 2:].argmax(dim=-1), num_classes=3)\n",
    "    \n",
    "    predicted = torch.cat([pred_location, pred_metadata], dim=-1)\n",
    "    \n",
    "    output = torch.cat([output, predicted], dim=1)"
   ]
  },
  {
   "cell_type": "code",
   "execution_count": 18,
   "id": "fa0bc0c7-6b56-4060-85df-85dc1724f462",
   "metadata": {},
   "outputs": [
    {
     "data": {
      "text/plain": [
       "tensor([[[ 0.0000e+00,  0.0000e+00,  1.0000e+00,  0.0000e+00,  0.0000e+00],\n",
       "         [ 1.9892e+00,  1.8630e+00,  1.0000e+00,  0.0000e+00,  0.0000e+00],\n",
       "         [ 4.3593e-02,  3.3237e-01,  1.0000e+00,  0.0000e+00,  0.0000e+00],\n",
       "         ...,\n",
       "         [ 3.8660e-03, -2.4356e-01,  1.0000e+00,  0.0000e+00,  0.0000e+00],\n",
       "         [ 2.9766e-03, -2.3843e-01,  1.0000e+00,  0.0000e+00,  0.0000e+00],\n",
       "         [-7.9760e-04, -2.3173e-01,  1.0000e+00,  0.0000e+00,  0.0000e+00]],\n",
       "\n",
       "        [[ 0.0000e+00,  0.0000e+00,  1.0000e+00,  0.0000e+00,  0.0000e+00],\n",
       "         [ 2.3089e+00,  1.7598e+00,  1.0000e+00,  0.0000e+00,  0.0000e+00],\n",
       "         [ 5.4868e-02,  3.6467e-01,  1.0000e+00,  0.0000e+00,  0.0000e+00],\n",
       "         ...,\n",
       "         [ 3.4480e-02, -7.3364e-02,  1.0000e+00,  0.0000e+00,  0.0000e+00],\n",
       "         [ 3.7623e-02, -7.2400e-02,  1.0000e+00,  0.0000e+00,  0.0000e+00],\n",
       "         [ 3.5026e-02, -6.6668e-02,  1.0000e+00,  0.0000e+00,  0.0000e+00]]],\n",
       "       grad_fn=<CatBackward0>)"
      ]
     },
     "execution_count": 18,
     "metadata": {},
     "output_type": "execute_result"
    }
   ],
   "source": [
    "output"
   ]
  },
  {
   "cell_type": "code",
   "execution_count": 22,
   "id": "dc63f823-35a2-49d4-b71e-04b9f48d7247",
   "metadata": {},
   "outputs": [
    {
     "data": {
      "image/png": "[encoded data removed]",
      "text/plain": [
       "<Figure size 360x360 with 1 Axes>"
      ]
     },
     "metadata": {},
     "output_type": "display_data"
    }
   ],
   "source": [
    "plot_stroke5(output[0].detach().numpy())"
   ]
  },
  {
   "cell_type": "code",
   "execution_count": null,
   "id": "7535b15b-8877-4561-af72-a6f684a31998",
   "metadata": {},
   "outputs": [],
   "source": []
  },
  {
   "cell_type": "markdown",
   "id": "692357ba-2ca0-4958-8435-6472eb831495",
   "metadata": {},
   "source": [
    "#### Decoding V1"
   ]
  },
  {
   "cell_type": "code",
   "execution_count": null,
   "id": "66e16747-9fa9-4aab-9aae-1b1f2f7eda86",
   "metadata": {},
   "outputs": [],
   "source": [
    "\n",
    "i = 1\n",
    "total_seq_len = hp.max_seq_length + 2\n",
    "# for i in range(seq_len):\n",
    "nattn = i + 1\n",
    "\n",
    "enc_input_dummy = make_dummy_input(\n",
    "    total_seq_len=total_seq_len, nattn=nattn, batch_size=emb.shape[0])\n"
   ]
  },
  {
   "cell_type": "code",
   "execution_count": null,
   "id": "a82cb283-47c3-4a51-8b6e-48cf7b0a20be",
   "metadata": {},
   "outputs": [],
   "source": [
    "# enc_dummy_input"
   ]
  },
  {
   "cell_type": "code",
   "execution_count": null,
   "id": "84da9c8c-6471-4b2d-bc2d-0734e6a28450",
   "metadata": {},
   "outputs": [],
   "source": [
    "enc_padding_mask, dec_padding_mask, dec_target_padding_mask, look_ahead_mask = \\\n",
    "    create_masks(enc_input_dummy, output, device='cpu')\n"
   ]
  },
  {
   "cell_type": "code",
   "execution_count": null,
   "id": "b0757e34-c1ed-4879-b146-fa1ba80a9414",
   "metadata": {},
   "outputs": [],
   "source": [
    "# dec_target_padding_mask"
   ]
  },
  {
   "cell_type": "code",
   "execution_count": null,
   "id": "aba54f91-793d-4ae6-bc13-c92124b1f956",
   "metadata": {},
   "outputs": [],
   "source": [
    "final_output, attention_weights = t2.model.decode(\n",
    "            embedding=emb,\n",
    "            target=output,\n",
    "            dec_padding_mask=dec_padding_mask,\n",
    "            dec_target_padding_mask=dec_target_padding_mask,\n",
    "            look_ahead_mask=look_ahead_mask)"
   ]
  },
  {
   "cell_type": "code",
   "execution_count": null,
   "id": "1bc4eaab-8084-4fad-9ee1-67967740e9bf",
   "metadata": {},
   "outputs": [
    {
     "data": {
      "text/plain": [
       "torch.Size([100, 2, 5])"
      ]
     },
     "execution_count": null,
     "metadata": {},
     "output_type": "execute_result"
    }
   ],
   "source": [
    "final_output.shape"
   ]
  },
  {
   "cell_type": "code",
   "execution_count": null,
   "id": "679bae5b-c848-4417-bc59-ed5ec5857573",
   "metadata": {},
   "outputs": [
    {
     "data": {
      "text/plain": [
       "tensor([[ 0.6406,  1.2515,  3.3626, -1.4067, -1.6516],\n",
       "        [ 0.2391,  0.7815,  3.6174, -1.3591, -1.7601]],\n",
       "       grad_fn=<SelectBackward0>)"
      ]
     },
     "execution_count": null,
     "metadata": {},
     "output_type": "execute_result"
    }
   ],
   "source": [
    "final_output[1]"
   ]
  },
  {
   "cell_type": "code",
   "execution_count": null,
   "id": "deb5e6eb-fe34-41a4-889e-abe9f5677c8e",
   "metadata": {},
   "outputs": [
    {
     "data": {
      "text/plain": [
       "tensor([[ 0.6779,  1.3187,  3.3529, -1.3955, -1.6388],\n",
       "        [ 0.2625,  0.8304,  3.6120, -1.3516, -1.7265]],\n",
       "       grad_fn=<SelectBackward0>)"
      ]
     },
     "execution_count": null,
     "metadata": {},
     "output_type": "execute_result"
    }
   ],
   "source": [
    "final_output[2]"
   ]
  },
  {
   "cell_type": "code",
   "execution_count": null,
   "id": "8ffdab80-acb2-4a5c-9934-24d8f3d09884",
   "metadata": {},
   "outputs": [],
   "source": [
    "predictions = final_output[:, -1:, ...]  # (batch_size, 1, vocab_size)"
   ]
  },
  {
   "cell_type": "code",
   "execution_count": null,
   "id": "df4e0f32-1909-4b1c-a8ae-bcb2d44fdcc3",
   "metadata": {},
   "outputs": [],
   "source": []
  },
  {
   "cell_type": "code",
   "execution_count": null,
   "id": "2ad5717d-afe4-4033-9b31-b5e372233e23",
   "metadata": {},
   "outputs": [
    {
     "data": {
      "text/plain": [
       "torch.Size([100, 1, 1])"
      ]
     },
     "execution_count": null,
     "metadata": {},
     "output_type": "execute_result"
    }
   ],
   "source": [
    "torch.softmax(predictions[..., 2:], dim=-1).argmax(dim=-1, keepdim=True).shape"
   ]
  },
  {
   "cell_type": "code",
   "execution_count": null,
   "id": "4170892c-0557-4d3e-8ae4-69f1cd41c39d",
   "metadata": {},
   "outputs": [
    {
     "data": {
      "text/plain": [
       "torch.Size([100, 1, 5])"
      ]
     },
     "execution_count": null,
     "metadata": {},
     "output_type": "execute_result"
    }
   ],
   "source": [
    "from torch.nn import functional as F\n",
    "\n",
    "pred_location = predictions[..., :2]\n",
    "\n",
    "pred_metadata = F.one_hot(predictions[..., 2:].argmax(dim=-1), num_classes=3)\n",
    "\n",
    "predicted = torch.cat([pred_location, pred_metadata], dim=-1)\n",
    "\n",
    "predicted.shape"
   ]
  },
  {
   "cell_type": "code",
   "execution_count": null,
   "id": "4aceba1d-0950-4219-95e2-6863f10ba8b0",
   "metadata": {},
   "outputs": [
    {
     "data": {
      "text/plain": [
       "tensor([[0.2338, 0.7799, 1.0000, 0.0000, 0.0000]], grad_fn=<SelectBackward0>)"
      ]
     },
     "execution_count": null,
     "metadata": {},
     "output_type": "execute_result"
    }
   ],
   "source": [
    "predicted[0]"
   ]
  },
  {
   "cell_type": "code",
   "execution_count": null,
   "id": "373dfc92-81aa-4e76-ab61-30d9f38020b2",
   "metadata": {},
   "outputs": [],
   "source": [
    "output = torch.cat([output, predicted], dim=1)"
   ]
  },
  {
   "cell_type": "code",
   "execution_count": null,
   "id": "a5e9724d-e9eb-4c75-b110-a66467f884ba",
   "metadata": {},
   "outputs": [
    {
     "data": {
      "text/plain": [
       "torch.Size([100, 3, 5])"
      ]
     },
     "execution_count": null,
     "metadata": {},
     "output_type": "execute_result"
    }
   ],
   "source": [
    "output.shape"
   ]
  },
  {
   "cell_type": "code",
   "execution_count": null,
   "id": "1b05fe9d-4ffb-4d8e-9509-dd37c853d39d",
   "metadata": {},
   "outputs": [
    {
     "data": {
      "text/plain": [
       "tensor([[0.0000, 0.0000, 1.0000, 0.0000, 0.0000],\n",
       "        [0.6339, 1.2458, 1.0000, 0.0000, 0.0000],\n",
       "        [0.2338, 0.7799, 1.0000, 0.0000, 0.0000]], grad_fn=<SelectBackward0>)"
      ]
     },
     "execution_count": null,
     "metadata": {},
     "output_type": "execute_result"
    }
   ],
   "source": [
    "output[0]"
   ]
  },
  {
   "cell_type": "code",
   "execution_count": null,
   "id": "61fc0044-ba4e-4a4d-b17f-4b29cd284213",
   "metadata": {},
   "outputs": [
    {
     "data": {
      "text/plain": [
       "tensor([[0.0000, 0.0000, 1.0000, 0.0000, 0.0000],\n",
       "        [0.6195, 1.2180, 1.0000, 0.0000, 0.0000],\n",
       "        [0.2241, 0.7601, 1.0000, 0.0000, 0.0000]], grad_fn=<SelectBackward0>)"
      ]
     },
     "execution_count": null,
     "metadata": {},
     "output_type": "execute_result"
    }
   ],
   "source": [
    "output[99]"
   ]
  },
  {
   "cell_type": "code",
   "execution_count": null,
   "id": "3991fdf8-4faa-4dc8-944d-da9c85a22039",
   "metadata": {},
   "outputs": [
    {
     "data": {
      "text/plain": [
       "tensor([[ 0.0000,  0.0000,  1.0000,  0.0000,  0.0000],\n",
       "        [ 0.7478,  0.6953,  1.0000,  0.0000,  0.0000],\n",
       "        [-0.2393,  0.3491,  1.0000,  0.0000,  0.0000],\n",
       "        ...,\n",
       "        [ 0.0000,  0.0000,  0.0000,  0.0000,  1.0000],\n",
       "        [ 0.0000,  0.0000,  0.0000,  0.0000,  1.0000],\n",
       "        [ 0.0000,  0.0000,  0.0000,  0.0000,  1.0000]])"
      ]
     },
     "execution_count": null,
     "metadata": {},
     "output_type": "execute_result"
    }
   ],
   "source": [
    "data[0]"
   ]
  },
  {
   "cell_type": "code",
   "execution_count": null,
   "id": "c1dad8b1-3874-497a-bba8-7bbda0c297db",
   "metadata": {},
   "outputs": [
    {
     "data": {
      "image/png": "[encoded data removed]",
      "text/plain": [
       "<Figure size 360x360 with 1 Axes>"
      ]
     },
     "metadata": {},
     "output_type": "display_data"
    }
   ],
   "source": [
    "idx = 99\n",
    "\n",
    "pts = deltas_to_points(data[..., [0,1,3]][idx])\n",
    "bb = BoundingBox.create(pts)\n",
    "\n",
    "rescaled_pts = apply_transform(pts[:, :2], bb.normalization_xform())\n",
    "rescaled_pts *= 200\n",
    "\n",
    "rescaled_pts = np.concatenate([rescaled_pts, pts[:, 2].reshape(pts.shape[0], 1)], axis=1)\n",
    "\n",
    "plot_strokes(points_to_strokes(rescaled_pts))"
   ]
  },
  {
   "cell_type": "code",
   "execution_count": null,
   "id": "defb9fc7-117c-40bc-844f-79d3709d4d4d",
   "metadata": {},
   "outputs": [],
   "source": []
  },
  {
   "cell_type": "code",
   "execution_count": null,
   "id": "5fbd8b50-7185-4335-a2bb-de6c00e41a47",
   "metadata": {},
   "outputs": [],
   "source": []
  },
  {
   "cell_type": "code",
   "execution_count": null,
   "id": "ebccaecf-73d2-408d-a797-6ee71f2a83e2",
   "metadata": {},
   "outputs": [
    {
     "data": {
      "text/plain": [
       "(252, 1)"
      ]
     },
     "execution_count": null,
     "metadata": {},
     "output_type": "execute_result"
    }
   ],
   "source": [
    "# pts[:, 2].reshape(pts.shape[0], 1).shape"
   ]
  },
  {
   "cell_type": "code",
   "execution_count": null,
   "id": "8f2a394d-f793-4f5c-b4da-12a673cb0685",
   "metadata": {},
   "outputs": [],
   "source": [
    "with_pencol = "
   ]
  },
  {
   "cell_type": "code",
   "execution_count": null,
   "id": "c71f9cb7-7fef-4932-87b4-44348612d72d",
   "metadata": {},
   "outputs": [
    {
     "data": {
      "image/png": "[encoded data removed]",
      "text/plain": [
       "<Figure size 360x360 with 1 Axes>"
      ]
     },
     "metadata": {},
     "output_type": "display_data"
    }
   ],
   "source": []
  },
  {
   "cell_type": "code",
   "execution_count": null,
   "id": "fb69d602-44b3-4d8e-a535-10e0d7af6bfe",
   "metadata": {},
   "outputs": [],
   "source": [
    "# predicted = predictions\n",
    "# predicted = tf.concat((predicted[..., :2],\n",
    "#                        tf.nn.softmax(predicted[..., 2:], axis=-1)), axis=-1)\n",
    "# finished_ones = np.sum(tf.argmax(predicted[...,  2:], axis=-1) == 2)\n",
    "# output = tf.concat([output, predicted], axis=1)\n",
    "# if finished_ones == emb.shape[0]:\n",
    "#     break"
   ]
  },
  {
   "cell_type": "code",
   "execution_count": null,
   "id": "1ceb2f4a-9a4e-4c84-b624-d2b6bb58ce93",
   "metadata": {},
   "outputs": [],
   "source": []
  },
  {
   "cell_type": "code",
   "execution_count": null,
   "id": "70d0ed52-8ffb-412c-81c7-24ccc81289e1",
   "metadata": {},
   "outputs": [],
   "source": [
    "# from singleline_stroke3.display import *\n",
    "# from singleline_stroke3.transforms import *"
   ]
  }
 ],
 "metadata": {
  "kernelspec": {
   "display_name": "python3",
   "language": "python",
   "name": "python3"
  }
 },
 "nbformat": 4,
 "nbformat_minor": 5
}
