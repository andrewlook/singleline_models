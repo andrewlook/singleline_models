{
 "cells": [
  {
   "cell_type": "code",
   "execution_count": null,
   "id": "96ae4a86-b115-4c5a-98eb-934c619fe15c",
   "metadata": {},
   "outputs": [
    {
     "name": "stdout",
     "output_type": "stream",
     "text": [
      "The autoreload extension is already loaded. To reload it, use:\n",
      "  %reload_ext autoreload\n"
     ]
    }
   ],
   "source": [
    "%load_ext autoreload\n",
    "%autoreload 2"
   ]
  },
  {
   "cell_type": "code",
   "execution_count": null,
   "id": "de618f67-088b-4e42-ba00-9c352fbe367c",
   "metadata": {},
   "outputs": [],
   "source": []
  },
  {
   "cell_type": "code",
   "execution_count": null,
   "id": "fafeffe7-76cf-44c9-8b01-913501dbb4a9",
   "metadata": {},
   "outputs": [],
   "source": []
  },
  {
   "cell_type": "markdown",
   "id": "6126f883-3eae-4d57-b560-3dc8f2125637",
   "metadata": {},
   "source": [
    "# WIP: Decoding"
   ]
  },
  {
   "cell_type": "code",
   "execution_count": null,
   "id": "b2182e59-c43a-4d7b-bcda-cc71b1c82645",
   "metadata": {},
   "outputs": [
    {
     "data": {
      "text/plain": [
       "(1800, 300)"
      ]
     },
     "execution_count": null,
     "metadata": {},
     "output_type": "execute_result"
    }
   ],
   "source": [
    "import numpy as np\n",
    "\n",
    "npz_fname = 'data/look/epoch-20231214-filtered-trainval.npz'\n",
    "# npz_fname = 'data/look/epoch20240221_expanded10x_trainval.npz'\n",
    "\n",
    "ds = np.load(npz_fname, encoding='latin1', allow_pickle=True)\n",
    "# print(f\"num drawings in dataset: {ds.shape[0]}\")\n",
    "\n",
    "train = ds['train']\n",
    "valid = ds['valid']\n",
    "\n",
    "len(train), max([len(train[i]) for i in range(len(train))])"
   ]
  },
  {
   "cell_type": "code",
   "execution_count": null,
   "id": "bddc31c5-be21-4837-8fd7-1ed156a741fb",
   "metadata": {},
   "outputs": [
    {
     "name": "stdout",
     "output_type": "stream",
     "text": [
      "============================================================\n",
      "RUN_ID: 0113464\n",
      "\n",
      "HYPERPARAMETERS:\n",
      "\n",
      "{\n",
      "  \"n_layer\": 4,\n",
      "  \"n_head\": 8,\n",
      "  \"d_model\": 128,\n",
      "  \"d_ff\": 512,\n",
      "  \"d_lowerdim\": 256,\n",
      "  \"vocab_size\": null,\n",
      "  \"block_size\": null,\n",
      "  \"dropout_rate\": 0.1,\n",
      "  \"max_seq_length\": 250,\n",
      "  \"batch_size\": 100,\n",
      "  \"blind_decoder_mask\": true,\n",
      "  \"dataset_source\": \"look\",\n",
      "  \"dataset_name\": \"look_i16__minn10_epsilon1\",\n",
      "  \"dataset_fname\": \"data/look/epoch20240221_expanded10x_trainval.npz\",\n",
      "  \"augment_stroke_prob\": 0.1,\n",
      "  \"use_random_scale\": true,\n",
      "  \"random_scale_factor\": 0.15,\n",
      "  \"epochs\": 50000,\n",
      "  \"lr\": 0.001,\n",
      "  \"use_lr_decay\": true,\n",
      "  \"min_lr\": 1e-05,\n",
      "  \"lr_decay\": 0.9999\n",
      "}\n",
      "============================================================\n",
      "\n",
      "\n",
      "finished filtering - len(dataset) = 30800, len(data) = 30800\n",
      "finished filtering - len(dataset) = 3300, len(data) = 3300\n"
     ]
    },
    {
     "data": {
      "text/plain": [
       "Model(\n",
       "  (encoder): Encoder(\n",
       "    (embedding): Linear(in_features=5, out_features=128, bias=True)\n",
       "    (pos_encoding): PositionalEncoding(\n",
       "      (dropout): Dropout(p=0.1, inplace=False)\n",
       "    )\n",
       "    (enc_layers): ModuleList(\n",
       "      (0-3): 4 x EncoderLayer(\n",
       "        (mha): MultiheadAttention(\n",
       "          (out_proj): NonDynamicallyQuantizableLinear(in_features=128, out_features=128, bias=True)\n",
       "        )\n",
       "        (ffn): Sequential(\n",
       "          (0): Linear(in_features=128, out_features=512, bias=True)\n",
       "          (1): ReLU()\n",
       "          (2): Linear(in_features=512, out_features=128, bias=True)\n",
       "          (3): Dropout(p=0.1, inplace=False)\n",
       "        )\n",
       "        (ln1): LayerNorm((128,), eps=1e-05, elementwise_affine=True)\n",
       "        (ln2): LayerNorm((128,), eps=1e-05, elementwise_affine=True)\n",
       "      )\n",
       "    )\n",
       "  )\n",
       "  (bottleneck_layer): SelfAttn(\n",
       "    (embedding_layer): Linear(in_features=128, out_features=256, bias=True)\n",
       "  )\n",
       "  (expand_layer): DenseExpander(\n",
       "    (project_layer): Linear(in_features=256, out_features=128, bias=True)\n",
       "    (expand_layer): Linear(in_features=1, out_features=252, bias=True)\n",
       "  )\n",
       "  (decoder): Decoder(\n",
       "    (embedding): Linear(in_features=5, out_features=128, bias=True)\n",
       "    (pos_encoding): PositionalEncoding(\n",
       "      (dropout): Dropout(p=0.1, inplace=False)\n",
       "    )\n",
       "    (dec_layers): ModuleList(\n",
       "      (0-3): 4 x DecoderLayer(\n",
       "        (mha1): MultiheadAttention(\n",
       "          (out_proj): NonDynamicallyQuantizableLinear(in_features=128, out_features=128, bias=True)\n",
       "        )\n",
       "        (mha2): MultiheadAttention(\n",
       "          (out_proj): NonDynamicallyQuantizableLinear(in_features=128, out_features=128, bias=True)\n",
       "        )\n",
       "        (ffn): Sequential(\n",
       "          (0): Linear(in_features=128, out_features=512, bias=True)\n",
       "          (1): ReLU()\n",
       "          (2): Linear(in_features=512, out_features=128, bias=True)\n",
       "          (3): Dropout(p=0.1, inplace=False)\n",
       "        )\n",
       "        (ln1): LayerNorm((128,), eps=1e-05, elementwise_affine=True)\n",
       "        (ln2): LayerNorm((128,), eps=1e-05, elementwise_affine=True)\n",
       "        (ln3): LayerNorm((128,), eps=1e-05, elementwise_affine=True)\n",
       "      )\n",
       "    )\n",
       "  )\n",
       "  (output_layer): Linear(in_features=128, out_features=5, bias=True)\n",
       ")"
      ]
     },
     "execution_count": null,
     "metadata": {},
     "output_type": "execute_result"
    }
   ],
   "source": [
    "import torch\n",
    "from singleline_models.sketch_transformer.trainer import get_default_config, Trainer\n",
    "\n",
    "run_id = 'rb1irlmk'\n",
    "\n",
    "t2 = Trainer.load(run_dir=f'models/{run_id}', run_id=run_id, device='cpu')\n",
    "\n",
    "t2.model"
   ]
  },
  {
   "cell_type": "code",
   "execution_count": null,
   "id": "d1780ce4-121e-4d86-84bd-3e23c6f53a82",
   "metadata": {},
   "outputs": [
    {
     "data": {
      "text/plain": [
       "{'n_layer': 4,\n",
       " 'n_head': 8,\n",
       " 'd_model': 128,\n",
       " 'd_ff': 512,\n",
       " 'd_lowerdim': 256,\n",
       " 'vocab_size': None,\n",
       " 'block_size': None,\n",
       " 'dropout_rate': 0.1,\n",
       " 'max_seq_length': 250,\n",
       " 'batch_size': 100,\n",
       " 'blind_decoder_mask': True,\n",
       " 'dataset_source': 'look',\n",
       " 'dataset_name': 'look_i16__minn10_epsilon1',\n",
       " 'dataset_fname': 'data/look/epoch-20231214-filtered-trainval.npz',\n",
       " 'augment_stroke_prob': 0.1,\n",
       " 'use_random_scale': True,\n",
       " 'random_scale_factor': 0.15,\n",
       " 'epochs': 50000,\n",
       " 'lr': 0.001,\n",
       " 'use_lr_decay': True,\n",
       " 'min_lr': 1e-05,\n",
       " 'lr_decay': 0.9999,\n",
       " 'learning_rate': 0.001}"
      ]
     },
     "execution_count": null,
     "metadata": {},
     "output_type": "execute_result"
    }
   ],
   "source": [
    "hp = trainer.hp\n",
    "\n",
    "hp.__dict__"
   ]
  },
  {
   "cell_type": "code",
   "execution_count": null,
   "id": "f26c2327-237d-43e2-a814-2f92ce6f8bd3",
   "metadata": {},
   "outputs": [
    {
     "data": {
      "text/plain": [
       "(torch.Size([100, 252, 5]), torch.Size([100, 251]))"
      ]
     },
     "execution_count": null,
     "metadata": {},
     "output_type": "execute_result"
    }
   ],
   "source": [
    "valid_iter = iter(t2.valid_loader)\n",
    "\n",
    "data, mask = next(valid_iter)\n",
    "\n",
    "data.shape, mask.shape"
   ]
  },
  {
   "cell_type": "code",
   "execution_count": null,
   "id": "d493bdda-7a1d-48b0-8bc9-6383bf9d4001",
   "metadata": {},
   "outputs": [
    {
     "data": {
      "text/plain": [
       "tensor([[ 0.0000,  0.0000,  1.0000,  0.0000,  0.0000],\n",
       "        [ 3.3485,  8.8307,  1.0000,  0.0000,  0.0000],\n",
       "        [ 0.0000, -0.4527,  1.0000,  0.0000,  0.0000],\n",
       "        ...,\n",
       "        [ 0.0000,  0.0000,  0.0000,  0.0000,  1.0000],\n",
       "        [ 0.0000,  0.0000,  0.0000,  0.0000,  1.0000],\n",
       "        [ 0.0000,  0.0000,  0.0000,  0.0000,  1.0000]])"
      ]
     },
     "execution_count": null,
     "metadata": {},
     "output_type": "execute_result"
    }
   ],
   "source": [
    "data[0]"
   ]
  },
  {
   "cell_type": "code",
   "execution_count": null,
   "id": "8c260ceb-c9a2-41cf-baed-e9e18c2efe79",
   "metadata": {},
   "outputs": [],
   "source": [
    "from singleline_dataset.transforms import *\n",
    "from singleline_dataset.display import *"
   ]
  },
  {
   "cell_type": "code",
   "execution_count": null,
   "id": "d4723cbf-f033-4a59-8e3a-cd3abdf15da2",
   "metadata": {},
   "outputs": [
    {
     "data": {
      "text/plain": [
       "torch.Size([100, 252, 5])"
      ]
     },
     "execution_count": null,
     "metadata": {},
     "output_type": "execute_result"
    }
   ],
   "source": [
    "data.shape"
   ]
  },
  {
   "cell_type": "code",
   "execution_count": null,
   "id": "df0051e0-72ce-486f-858f-b25ee2606827",
   "metadata": {},
   "outputs": [],
   "source": [
    "# # back to stroke-3\n",
    "# data[..., [0,1,3]]"
   ]
  },
  {
   "cell_type": "code",
   "execution_count": null,
   "id": "6aceceb8-5ae2-4757-b47a-fd23a6739014",
   "metadata": {},
   "outputs": [],
   "source": [
    "from singleline_models.sketch_transformer.masks import *"
   ]
  },
  {
   "cell_type": "code",
   "execution_count": null,
   "id": "cb74ddaf-1159-4f10-ba6a-5db702169ccb",
   "metadata": {},
   "outputs": [],
   "source": [
    "t2.model.eval()\n",
    "\n",
    "with torch.no_grad():\n",
    "    inp = data\n",
    "    tar_inp = inp[:, :-1, ...]\n",
    "    tar_real = inp[:, 1:, ...]\n",
    "\n",
    "    enc_padding_mask, dec_padding_mask, dec_target_padding_mask, look_ahead_mask = create_masks(inp, tar_inp, device=t2.device)\n",
    "\n",
    "    recon, _ = t2.model(inp, tar_inp, enc_padding_mask, dec_padding_mask, dec_target_padding_mask, look_ahead_mask)\n"
   ]
  },
  {
   "cell_type": "code",
   "execution_count": null,
   "id": "c263e456-18fa-4d21-9278-3db197b44291",
   "metadata": {},
   "outputs": [
    {
     "data": {
      "text/plain": [
       "torch.Size([100, 251, 5])"
      ]
     },
     "execution_count": null,
     "metadata": {},
     "output_type": "execute_result"
    }
   ],
   "source": [
    "recon.shape"
   ]
  },
  {
   "cell_type": "code",
   "execution_count": null,
   "id": "dd738a11-7a3a-4527-aa41-5c355f14b4cb",
   "metadata": {},
   "outputs": [
    {
     "data": {
      "text/plain": [
       "tensor([[[ 3.5329e+00,  9.6288e+00,  5.3611e+00, -3.4596e+00, -8.3489e+00],\n",
       "         [ 2.3294e-02, -3.8949e-01,  9.8829e+00, -8.5926e+00, -1.2378e+01],\n",
       "         [ 1.1838e-01, -7.8708e-02,  1.0081e+01, -8.7456e+00, -1.2712e+01],\n",
       "         ...,\n",
       "         [-3.1393e-02, -9.3986e-01, -3.4550e+00,  7.3045e+00, -1.3964e+01],\n",
       "         [-1.9621e-01, -1.6634e-01,  5.2449e-01,  2.7607e+00, -1.5029e+01],\n",
       "         [-8.3308e-02, -7.3363e-01,  5.8782e-02,  3.1838e+00, -1.4897e+01]],\n",
       "\n",
       "        [[ 4.9594e+00,  1.0663e+01,  5.3578e+00, -3.5522e+00, -7.5788e+00],\n",
       "         [ 3.0547e-03, -3.5476e-01,  1.0119e+01, -8.8608e+00, -1.2451e+01],\n",
       "         [ 1.2438e-01, -1.3330e-02,  1.0128e+01, -8.8334e+00, -1.2655e+01],\n",
       "         ...,\n",
       "         [-2.1159e-01, -1.0479e+00, -2.5831e+00,  6.2649e+00, -1.3984e+01],\n",
       "         [ 3.5933e-02, -2.9249e-01,  4.2993e-01,  2.7182e+00, -1.4733e+01],\n",
       "         [ 1.1287e-01, -8.7293e-01,  1.0823e-01,  3.1185e+00, -1.4944e+01]],\n",
       "\n",
       "        [[ 2.3355e+00,  1.1197e+01,  5.5395e+00, -3.5123e+00, -8.2751e+00],\n",
       "         [ 1.0766e-01, -4.1505e-01,  9.8920e+00, -8.6058e+00, -1.2325e+01],\n",
       "         [ 1.4931e-01, -7.0109e-02,  1.0063e+01, -8.7226e+00, -1.2701e+01],\n",
       "         ...,\n",
       "         [-2.4919e-02, -8.5935e-01, -3.8145e+00,  7.7179e+00, -1.3844e+01],\n",
       "         [-1.5592e-01, -1.7856e-01,  5.6528e-01,  2.7251e+00, -1.5019e+01],\n",
       "         [-9.9293e-02, -7.0282e-01, -6.0113e-02,  3.3100e+00, -1.4859e+01]],\n",
       "\n",
       "        ...,\n",
       "\n",
       "        [[ 3.5016e+00, -1.4865e-01,  7.1423e+00, -5.2338e+00, -1.3561e+01],\n",
       "         [ 2.2019e-01,  7.2978e-01,  1.0530e+01, -9.3887e+00, -1.2597e+01],\n",
       "         [ 2.3247e-01,  9.8199e-01,  1.0400e+01, -9.3489e+00, -1.2321e+01],\n",
       "         ...,\n",
       "         [ 2.1419e-02, -5.8063e-01,  1.0771e+00,  2.3033e+00, -1.5742e+01],\n",
       "         [-6.8893e-02, -2.1605e-01,  1.0001e+00,  2.1848e+00, -1.5344e+01],\n",
       "         [-1.5714e-01, -7.8021e-01,  1.9230e+00,  1.0838e+00, -1.5297e+01]],\n",
       "\n",
       "        [[ 3.7975e+00, -1.1888e-01,  7.1074e+00, -5.1500e+00, -1.3561e+01],\n",
       "         [ 2.6220e-01,  5.4009e-01,  1.0313e+01, -9.1623e+00, -1.2606e+01],\n",
       "         [ 3.0673e-01,  1.2037e+00,  9.9798e+00, -9.0880e+00, -1.1811e+01],\n",
       "         ...,\n",
       "         [-2.3333e-01, -1.0549e-01,  1.6460e+00,  1.6124e+00, -1.5128e+01],\n",
       "         [-1.7107e-02, -1.8494e-01,  5.3436e-01,  2.7670e+00, -1.5253e+01],\n",
       "         [-1.9468e-01, -1.2443e-01,  1.1332e+00,  2.2097e+00, -1.5227e+01]],\n",
       "\n",
       "        [[ 1.3398e+00,  1.1946e+01, -1.6335e+00,  4.9597e+00, -6.7807e+00],\n",
       "         [-4.0699e-02, -1.6051e-01,  9.9624e+00, -8.6604e+00, -1.2567e+01],\n",
       "         [-2.6583e-01,  1.5195e-01,  1.0319e+01, -9.1793e+00, -1.2427e+01],\n",
       "         ...,\n",
       "         [ 4.4173e-01, -3.5196e-01,  7.5134e+00, -5.7082e+00, -1.3808e+01],\n",
       "         [ 1.6766e-02,  3.4076e-02,  3.9874e+00, -1.1857e+00, -1.4938e+01],\n",
       "         [ 1.1736e-01, -8.4813e-02,  5.8059e+00, -3.5937e+00, -1.4044e+01]]])"
      ]
     },
     "execution_count": null,
     "metadata": {},
     "output_type": "execute_result"
    }
   ],
   "source": [
    "recon"
   ]
  },
  {
   "cell_type": "code",
   "execution_count": null,
   "id": "d8d26e27-f6b0-40ca-a88d-42bad264e34b",
   "metadata": {},
   "outputs": [],
   "source": [
    "emb, enc_output = t2.model.encode_from_seq(data)"
   ]
  },
  {
   "cell_type": "code",
   "execution_count": null,
   "id": "414fb8da-d483-4df1-aaa3-e044a99c4076",
   "metadata": {},
   "outputs": [
    {
     "data": {
      "text/plain": [
       "torch.Size([100, 256])"
      ]
     },
     "execution_count": null,
     "metadata": {},
     "output_type": "execute_result"
    }
   ],
   "source": [
    "emb.shape"
   ]
  },
  {
   "cell_type": "code",
   "execution_count": null,
   "id": "37f92d23-acba-48b1-a19b-59e535d29427",
   "metadata": {},
   "outputs": [
    {
     "data": {
      "text/plain": [
       "torch.Size([100, 1, 5])"
      ]
     },
     "execution_count": null,
     "metadata": {},
     "output_type": "execute_result"
    }
   ],
   "source": [
    "from torch import tensor\n",
    "\n",
    "decoder_input = tensor([0., 0., 1., 0., 0.])\n",
    "output = torch.ones((emb.shape[0], 1, 5)) * decoder_input\n",
    "\n",
    "output.shape"
   ]
  },
  {
   "cell_type": "code",
   "execution_count": null,
   "id": "f1089ee7-af14-4d8a-9344-cc43ad97bc2d",
   "metadata": {},
   "outputs": [
    {
     "data": {
      "text/plain": [
       "tensor([[[0., 0., 1., 0., 0.]],\n",
       "\n",
       "        [[0., 0., 1., 0., 0.]],\n",
       "\n",
       "        [[0., 0., 1., 0., 0.]],\n",
       "\n",
       "        [[0., 0., 1., 0., 0.]],\n",
       "\n",
       "        [[0., 0., 1., 0., 0.]],\n",
       "\n",
       "        [[0., 0., 1., 0., 0.]],\n",
       "\n",
       "        [[0., 0., 1., 0., 0.]],\n",
       "\n",
       "        [[0., 0., 1., 0., 0.]],\n",
       "\n",
       "        [[0., 0., 1., 0., 0.]],\n",
       "\n",
       "        [[0., 0., 1., 0., 0.]],\n",
       "\n",
       "        [[0., 0., 1., 0., 0.]],\n",
       "\n",
       "        [[0., 0., 1., 0., 0.]],\n",
       "\n",
       "        [[0., 0., 1., 0., 0.]],\n",
       "\n",
       "        [[0., 0., 1., 0., 0.]],\n",
       "\n",
       "        [[0., 0., 1., 0., 0.]],\n",
       "\n",
       "        [[0., 0., 1., 0., 0.]],\n",
       "\n",
       "        [[0., 0., 1., 0., 0.]],\n",
       "\n",
       "        [[0., 0., 1., 0., 0.]],\n",
       "\n",
       "        [[0., 0., 1., 0., 0.]],\n",
       "\n",
       "        [[0., 0., 1., 0., 0.]],\n",
       "\n",
       "        [[0., 0., 1., 0., 0.]],\n",
       "\n",
       "        [[0., 0., 1., 0., 0.]],\n",
       "\n",
       "        [[0., 0., 1., 0., 0.]],\n",
       "\n",
       "        [[0., 0., 1., 0., 0.]],\n",
       "\n",
       "        [[0., 0., 1., 0., 0.]],\n",
       "\n",
       "        [[0., 0., 1., 0., 0.]],\n",
       "\n",
       "        [[0., 0., 1., 0., 0.]],\n",
       "\n",
       "        [[0., 0., 1., 0., 0.]],\n",
       "\n",
       "        [[0., 0., 1., 0., 0.]],\n",
       "\n",
       "        [[0., 0., 1., 0., 0.]],\n",
       "\n",
       "        [[0., 0., 1., 0., 0.]],\n",
       "\n",
       "        [[0., 0., 1., 0., 0.]],\n",
       "\n",
       "        [[0., 0., 1., 0., 0.]],\n",
       "\n",
       "        [[0., 0., 1., 0., 0.]],\n",
       "\n",
       "        [[0., 0., 1., 0., 0.]],\n",
       "\n",
       "        [[0., 0., 1., 0., 0.]],\n",
       "\n",
       "        [[0., 0., 1., 0., 0.]],\n",
       "\n",
       "        [[0., 0., 1., 0., 0.]],\n",
       "\n",
       "        [[0., 0., 1., 0., 0.]],\n",
       "\n",
       "        [[0., 0., 1., 0., 0.]],\n",
       "\n",
       "        [[0., 0., 1., 0., 0.]],\n",
       "\n",
       "        [[0., 0., 1., 0., 0.]],\n",
       "\n",
       "        [[0., 0., 1., 0., 0.]],\n",
       "\n",
       "        [[0., 0., 1., 0., 0.]],\n",
       "\n",
       "        [[0., 0., 1., 0., 0.]],\n",
       "\n",
       "        [[0., 0., 1., 0., 0.]],\n",
       "\n",
       "        [[0., 0., 1., 0., 0.]],\n",
       "\n",
       "        [[0., 0., 1., 0., 0.]],\n",
       "\n",
       "        [[0., 0., 1., 0., 0.]],\n",
       "\n",
       "        [[0., 0., 1., 0., 0.]],\n",
       "\n",
       "        [[0., 0., 1., 0., 0.]],\n",
       "\n",
       "        [[0., 0., 1., 0., 0.]],\n",
       "\n",
       "        [[0., 0., 1., 0., 0.]],\n",
       "\n",
       "        [[0., 0., 1., 0., 0.]],\n",
       "\n",
       "        [[0., 0., 1., 0., 0.]],\n",
       "\n",
       "        [[0., 0., 1., 0., 0.]],\n",
       "\n",
       "        [[0., 0., 1., 0., 0.]],\n",
       "\n",
       "        [[0., 0., 1., 0., 0.]],\n",
       "\n",
       "        [[0., 0., 1., 0., 0.]],\n",
       "\n",
       "        [[0., 0., 1., 0., 0.]],\n",
       "\n",
       "        [[0., 0., 1., 0., 0.]],\n",
       "\n",
       "        [[0., 0., 1., 0., 0.]],\n",
       "\n",
       "        [[0., 0., 1., 0., 0.]],\n",
       "\n",
       "        [[0., 0., 1., 0., 0.]],\n",
       "\n",
       "        [[0., 0., 1., 0., 0.]],\n",
       "\n",
       "        [[0., 0., 1., 0., 0.]],\n",
       "\n",
       "        [[0., 0., 1., 0., 0.]],\n",
       "\n",
       "        [[0., 0., 1., 0., 0.]],\n",
       "\n",
       "        [[0., 0., 1., 0., 0.]],\n",
       "\n",
       "        [[0., 0., 1., 0., 0.]],\n",
       "\n",
       "        [[0., 0., 1., 0., 0.]],\n",
       "\n",
       "        [[0., 0., 1., 0., 0.]],\n",
       "\n",
       "        [[0., 0., 1., 0., 0.]],\n",
       "\n",
       "        [[0., 0., 1., 0., 0.]],\n",
       "\n",
       "        [[0., 0., 1., 0., 0.]],\n",
       "\n",
       "        [[0., 0., 1., 0., 0.]],\n",
       "\n",
       "        [[0., 0., 1., 0., 0.]],\n",
       "\n",
       "        [[0., 0., 1., 0., 0.]],\n",
       "\n",
       "        [[0., 0., 1., 0., 0.]],\n",
       "\n",
       "        [[0., 0., 1., 0., 0.]],\n",
       "\n",
       "        [[0., 0., 1., 0., 0.]],\n",
       "\n",
       "        [[0., 0., 1., 0., 0.]],\n",
       "\n",
       "        [[0., 0., 1., 0., 0.]],\n",
       "\n",
       "        [[0., 0., 1., 0., 0.]],\n",
       "\n",
       "        [[0., 0., 1., 0., 0.]],\n",
       "\n",
       "        [[0., 0., 1., 0., 0.]],\n",
       "\n",
       "        [[0., 0., 1., 0., 0.]],\n",
       "\n",
       "        [[0., 0., 1., 0., 0.]],\n",
       "\n",
       "        [[0., 0., 1., 0., 0.]],\n",
       "\n",
       "        [[0., 0., 1., 0., 0.]],\n",
       "\n",
       "        [[0., 0., 1., 0., 0.]],\n",
       "\n",
       "        [[0., 0., 1., 0., 0.]],\n",
       "\n",
       "        [[0., 0., 1., 0., 0.]],\n",
       "\n",
       "        [[0., 0., 1., 0., 0.]],\n",
       "\n",
       "        [[0., 0., 1., 0., 0.]],\n",
       "\n",
       "        [[0., 0., 1., 0., 0.]],\n",
       "\n",
       "        [[0., 0., 1., 0., 0.]],\n",
       "\n",
       "        [[0., 0., 1., 0., 0.]],\n",
       "\n",
       "        [[0., 0., 1., 0., 0.]],\n",
       "\n",
       "        [[0., 0., 1., 0., 0.]]])"
      ]
     },
     "execution_count": null,
     "metadata": {},
     "output_type": "execute_result"
    }
   ],
   "source": [
    "output"
   ]
  },
  {
   "cell_type": "code",
   "execution_count": null,
   "id": "66e16747-9fa9-4aab-9aae-1b1f2f7eda86",
   "metadata": {},
   "outputs": [],
   "source": [
    "\n",
    "i = 1\n",
    "expected_len = hp.max_seq_length + 2\n",
    "\n",
    "# for i in range(seq_len):\n",
    "nattn = expected_len if expected_len is not None else i + 1\n",
    "\n",
    "enc_input_dummy = make_dummy_input(\n",
    "    total_seq_len=expected_len, nattn=nattn, batch_size=emb.shape[0])\n"
   ]
  },
  {
   "cell_type": "code",
   "execution_count": null,
   "id": "a82cb283-47c3-4a51-8b6e-48cf7b0a20be",
   "metadata": {},
   "outputs": [],
   "source": [
    "# enc_dummy_input"
   ]
  },
  {
   "cell_type": "code",
   "execution_count": null,
   "id": "84da9c8c-6471-4b2d-bc2d-0734e6a28450",
   "metadata": {},
   "outputs": [],
   "source": [
    "enc_padding_mask, dec_padding_mask, dec_target_padding_mask, look_ahead_mask = \\\n",
    "    create_masks(enc_input_dummy, output, device='cpu')\n"
   ]
  },
  {
   "cell_type": "code",
   "execution_count": null,
   "id": "b0757e34-c1ed-4879-b146-fa1ba80a9414",
   "metadata": {},
   "outputs": [],
   "source": [
    "# dec_target_padding_mask"
   ]
  },
  {
   "cell_type": "code",
   "execution_count": null,
   "id": "aba54f91-793d-4ae6-bc13-c92124b1f956",
   "metadata": {},
   "outputs": [],
   "source": [
    "final_output, attention_weights = t2.model.decode(\n",
    "            embedding=emb,\n",
    "            target=output,\n",
    "            dec_padding_mask=dec_padding_mask,\n",
    "            dec_target_padding_mask=dec_target_padding_mask,\n",
    "            look_ahead_mask=look_ahead_mask)"
   ]
  },
  {
   "cell_type": "code",
   "execution_count": null,
   "id": "1bc4eaab-8084-4fad-9ee1-67967740e9bf",
   "metadata": {},
   "outputs": [
    {
     "data": {
      "text/plain": [
       "torch.Size([100, 2, 5])"
      ]
     },
     "execution_count": null,
     "metadata": {},
     "output_type": "execute_result"
    }
   ],
   "source": [
    "final_output.shape"
   ]
  },
  {
   "cell_type": "code",
   "execution_count": null,
   "id": "679bae5b-c848-4417-bc59-ed5ec5857573",
   "metadata": {},
   "outputs": [
    {
     "data": {
      "text/plain": [
       "tensor([[-1.2349e-01, -3.6243e-02,  9.7793e+00, -8.2115e+00, -1.3756e+01],\n",
       "        [-7.4654e-02,  9.4675e-03,  9.7838e+00, -8.1558e+00, -1.4080e+01]],\n",
       "       grad_fn=<SelectBackward0>)"
      ]
     },
     "execution_count": null,
     "metadata": {},
     "output_type": "execute_result"
    }
   ],
   "source": [
    "final_output[1]"
   ]
  },
  {
   "cell_type": "code",
   "execution_count": null,
   "id": "deb5e6eb-fe34-41a4-889e-abe9f5677c8e",
   "metadata": {},
   "outputs": [
    {
     "data": {
      "text/plain": [
       "tensor([[-1.2319e-01, -3.6380e-02,  9.7818e+00, -8.2146e+00, -1.3754e+01],\n",
       "        [-7.4559e-02,  9.5914e-03,  9.7832e+00, -8.1550e+00, -1.4080e+01]],\n",
       "       grad_fn=<SelectBackward0>)"
      ]
     },
     "execution_count": null,
     "metadata": {},
     "output_type": "execute_result"
    }
   ],
   "source": [
    "final_output[2]"
   ]
  },
  {
   "cell_type": "code",
   "execution_count": null,
   "id": "8ffdab80-acb2-4a5c-9934-24d8f3d09884",
   "metadata": {},
   "outputs": [],
   "source": [
    "predictions = final_output[:, -1:, ...]  # (batch_size, 1, vocab_size)"
   ]
  },
  {
   "cell_type": "code",
   "execution_count": null,
   "id": "df4e0f32-1909-4b1c-a8ae-bcb2d44fdcc3",
   "metadata": {},
   "outputs": [],
   "source": []
  },
  {
   "cell_type": "code",
   "execution_count": null,
   "id": "2ad5717d-afe4-4033-9b31-b5e372233e23",
   "metadata": {},
   "outputs": [
    {
     "data": {
      "text/plain": [
       "torch.Size([100, 1, 1])"
      ]
     },
     "execution_count": null,
     "metadata": {},
     "output_type": "execute_result"
    }
   ],
   "source": [
    "torch.softmax(predictions[..., 2:], dim=-1).argmax(dim=-1, keepdim=True).shape"
   ]
  },
  {
   "cell_type": "code",
   "execution_count": null,
   "id": "4170892c-0557-4d3e-8ae4-69f1cd41c39d",
   "metadata": {},
   "outputs": [
    {
     "data": {
      "text/plain": [
       "torch.Size([100, 1, 5])"
      ]
     },
     "execution_count": null,
     "metadata": {},
     "output_type": "execute_result"
    }
   ],
   "source": [
    "from torch.nn import functional as F\n",
    "\n",
    "pred_location = predictions[..., :2]\n",
    "\n",
    "pred_metadata = F.one_hot(predictions[..., 2:].argmax(dim=-1), num_classes=3)\n",
    "\n",
    "predicted = torch.cat([pred_location, pred_metadata], dim=-1)\n",
    "\n",
    "predicted.shape"
   ]
  },
  {
   "cell_type": "code",
   "execution_count": null,
   "id": "4aceba1d-0950-4219-95e2-6863f10ba8b0",
   "metadata": {},
   "outputs": [
    {
     "data": {
      "text/plain": [
       "tensor([[-0.0746,  0.0096,  1.0000,  0.0000,  0.0000]],\n",
       "       grad_fn=<SelectBackward0>)"
      ]
     },
     "execution_count": null,
     "metadata": {},
     "output_type": "execute_result"
    }
   ],
   "source": [
    "predicted[0]"
   ]
  },
  {
   "cell_type": "code",
   "execution_count": null,
   "id": "373dfc92-81aa-4e76-ab61-30d9f38020b2",
   "metadata": {},
   "outputs": [],
   "source": [
    "output = torch.cat([output, predicted], dim=1)"
   ]
  },
  {
   "cell_type": "code",
   "execution_count": null,
   "id": "a5e9724d-e9eb-4c75-b110-a66467f884ba",
   "metadata": {},
   "outputs": [
    {
     "data": {
      "text/plain": [
       "torch.Size([100, 3, 5])"
      ]
     },
     "execution_count": null,
     "metadata": {},
     "output_type": "execute_result"
    }
   ],
   "source": [
    "output.shape"
   ]
  },
  {
   "cell_type": "code",
   "execution_count": null,
   "id": "1b05fe9d-4ffb-4d8e-9509-dd37c853d39d",
   "metadata": {},
   "outputs": [
    {
     "data": {
      "text/plain": [
       "tensor([[ 0.0000,  0.0000,  1.0000,  0.0000,  0.0000],\n",
       "        [-0.0506, -0.0034,  1.0000,  0.0000,  0.0000],\n",
       "        [-0.0746,  0.0096,  1.0000,  0.0000,  0.0000]],\n",
       "       grad_fn=<SelectBackward0>)"
      ]
     },
     "execution_count": null,
     "metadata": {},
     "output_type": "execute_result"
    }
   ],
   "source": [
    "output[0]"
   ]
  },
  {
   "cell_type": "code",
   "execution_count": null,
   "id": "61fc0044-ba4e-4a4d-b17f-4b29cd284213",
   "metadata": {},
   "outputs": [
    {
     "data": {
      "text/plain": [
       "tensor([[ 0.0000,  0.0000,  1.0000,  0.0000,  0.0000],\n",
       "        [-0.0506, -0.0034,  1.0000,  0.0000,  0.0000],\n",
       "        [-0.0747,  0.0095,  1.0000,  0.0000,  0.0000]],\n",
       "       grad_fn=<SelectBackward0>)"
      ]
     },
     "execution_count": null,
     "metadata": {},
     "output_type": "execute_result"
    }
   ],
   "source": [
    "output[1]"
   ]
  },
  {
   "cell_type": "code",
   "execution_count": null,
   "id": "3991fdf8-4faa-4dc8-944d-da9c85a22039",
   "metadata": {},
   "outputs": [],
   "source": []
  },
  {
   "cell_type": "code",
   "execution_count": null,
   "id": "c1dad8b1-3874-497a-bba8-7bbda0c297db",
   "metadata": {},
   "outputs": [],
   "source": []
  },
  {
   "cell_type": "code",
   "execution_count": null,
   "id": "fb69d602-44b3-4d8e-a535-10e0d7af6bfe",
   "metadata": {},
   "outputs": [],
   "source": [
    "# predicted = predictions\n",
    "# predicted = tf.concat((predicted[..., :2],\n",
    "#                        tf.nn.softmax(predicted[..., 2:], axis=-1)), axis=-1)\n",
    "# finished_ones = np.sum(tf.argmax(predicted[...,  2:], axis=-1) == 2)\n",
    "# output = tf.concat([output, predicted], axis=1)\n",
    "# if finished_ones == emb.shape[0]:\n",
    "#     break"
   ]
  },
  {
   "cell_type": "code",
   "execution_count": null,
   "id": "1ceb2f4a-9a4e-4c84-b624-d2b6bb58ce93",
   "metadata": {},
   "outputs": [],
   "source": []
  },
  {
   "cell_type": "code",
   "execution_count": null,
   "id": "70d0ed52-8ffb-412c-81c7-24ccc81289e1",
   "metadata": {},
   "outputs": [],
   "source": [
    "# from singleline_stroke3.display import *\n",
    "# from singleline_stroke3.transforms import *"
   ]
  }
 ],
 "metadata": {
  "kernelspec": {
   "display_name": "python3",
   "language": "python",
   "name": "python3"
  }
 },
 "nbformat": 4,
 "nbformat_minor": 5
}
